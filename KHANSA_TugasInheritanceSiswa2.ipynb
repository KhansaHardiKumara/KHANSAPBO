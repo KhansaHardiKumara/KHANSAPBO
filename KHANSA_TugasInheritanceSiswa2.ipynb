{
  "nbformat": 4,
  "nbformat_minor": 0,
  "metadata": {
    "colab": {
      "provenance": [],
      "include_colab_link": true
    },
    "kernelspec": {
      "name": "python3",
      "display_name": "Python 3"
    },
    "language_info": {
      "name": "python"
    }
  },
  "cells": [
    {
      "cell_type": "markdown",
      "metadata": {
        "id": "view-in-github",
        "colab_type": "text"
      },
      "source": [
        "<a href=\"https://colab.research.google.com/github/KhansaHardiKumara/KHANSAPBO/blob/main/KHANSA_TugasInheritanceSiswa2.ipynb\" target=\"_parent\"><img src=\"https://colab.research.google.com/assets/colab-badge.svg\" alt=\"Open In Colab\"/></a>"
      ]
    },
    {
      "cell_type": "markdown",
      "source": [
        "Buatlah tiga kelas: User, Siswa, dan Guru. Class Siswa dan Guru mewarisi atribute dan fungsi dari class User. Keduanya menambahkan atribut dan fungsi tambahan sesuai dengan peran masing-masing.\n",
        "\n",
        "Output dari program ini akan menampilkan informasi seorang siswa dan seorang guru dengan menggunakan fungsi tampil_info() yang diwarisi dari class User. Untuk info user yang ditampilkan silakan ditentukan sendiri minimal ada nama dan umur.\n",
        "\n",
        "Untuk informasi khusus dari siswa dan guru silakan tentukan sendiri, minimal satu atribute tambahan yang membedakan antara siswa dan guru."
      ],
      "metadata": {
        "id": "oWYx5WDsIouf"
      }
    },
    {
      "cell_type": "code",
      "execution_count": 1,
      "metadata": {
        "id": "VQWWW4rpH9ve"
      },
      "outputs": [],
      "source": [
        "#Class User\n",
        "class User:\n",
        "    def __init__(self, nama, umur):\n",
        "        self.nama = nama\n",
        "        self.umur = umur\n",
        "\n",
        "    def tampil_info(self):\n",
        "        print(f\"Nama: {self.nama}\")\n",
        "        print(f\"Umur: {self.umur}\")"
      ]
    },
    {
      "cell_type": "code",
      "source": [
        "#Class Siswa\n",
        "class Siswa(User):\n",
        "    def __init__(self, nama, umur, kelas):\n",
        "        super().__init__(nama, umur)\n",
        "        self.kelas = kelas\n",
        "\n",
        "    def tampil_info_siswa(self):\n",
        "        super().tampil_info()\n",
        "        print(f\"Kelas: {self.kelas}\")"
      ],
      "metadata": {
        "id": "i_iBjMciJJc5"
      },
      "execution_count": 2,
      "outputs": []
    },
    {
      "cell_type": "code",
      "source": [
        "#Class Guru\n",
        "class Guru(User):\n",
        "    def __init__(self, nama, umur, mata_pelajaran):\n",
        "        super().__init__(nama, umur)\n",
        "        self.mata_pelajaran = mata_pelajaran\n",
        "\n",
        "    def tampil_info_guru(self):\n",
        "        super().tampil_info()\n",
        "        print(f\"Mata Pelajaran: {self.mata_pelajaran}\")\n",
        ""
      ],
      "metadata": {
        "id": "lrnlKm6sJMjp"
      },
      "execution_count": 3,
      "outputs": []
    },
    {
      "cell_type": "code",
      "source": [
        "#Program utama untuk menampilkan info\n",
        "# Membuat objek Siswa dan Guru\n",
        "siswa = Siswa(\"KHANSA HARDI K\", 16, \"XI-RPL 2\")\n",
        "guru = Guru(\"BOWO\", 55, \"OLAHRAGA\")\n",
        "\n",
        "# Menampilkan informasi Siswa dan Guru\n",
        "print(\"Informasi Siswa:\")\n",
        "siswa.tampil_info_siswa()\n",
        "print(\"\\nInformasi Guru:\")\n",
        "guru.tampil_info_guru()"
      ],
      "metadata": {
        "id": "VDGIma_2JOVx",
        "colab": {
          "base_uri": "https://localhost:8080/"
        },
        "outputId": "99151ab7-8afc-4193-800a-02b8de22b6fd"
      },
      "execution_count": 6,
      "outputs": [
        {
          "output_type": "stream",
          "name": "stdout",
          "text": [
            "Informasi Siswa:\n",
            "Nama: KHANSA HARDI K\n",
            "Umur: 16\n",
            "Kelas: XI-RPL 2\n",
            "\n",
            "Informasi Guru:\n",
            "Nama: BOWO\n",
            "Umur: 55\n",
            "Mata Pelajaran: OLAHRAGA\n"
          ]
        }
      ]
    }
  ]
}