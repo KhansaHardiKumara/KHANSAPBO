{
  "nbformat": 4,
  "nbformat_minor": 0,
  "metadata": {
    "colab": {
      "provenance": [],
      "include_colab_link": true
    },
    "kernelspec": {
      "name": "python3",
      "display_name": "Python 3"
    },
    "language_info": {
      "name": "python"
    }
  },
  "cells": [
    {
      "cell_type": "markdown",
      "metadata": {
        "id": "view-in-github",
        "colab_type": "text"
      },
      "source": [
        "<a href=\"https://colab.research.google.com/github/KhansaHardiKumara/KHANSAPBO/blob/main/khansa_Copy_of_Tugas_Overloading_2.ipynb\" target=\"_parent\"><img src=\"https://colab.research.google.com/assets/colab-badge.svg\" alt=\"Open In Colab\"/></a>"
      ]
    },
    {
      "cell_type": "code",
      "execution_count": 1,
      "metadata": {
        "id": "5zCytCeM1uD4"
      },
      "outputs": [],
      "source": [
        "#class Nama\n",
        "class nama :\n",
        "  def nama_lengkap(self, *args):\n",
        "        jumlah = \"\"\n",
        "        for angka in args:\n",
        "            jumlah += angka\n",
        "        print(jumlah)"
      ]
    },
    {
      "cell_type": "code",
      "source": [
        "#Buat main program\n",
        "nama_lengkap = nama()\n",
        "#Panggil fungsi untuk membuat nama lengkap 4 nama teman kalian\n",
        "nama_lengkap.nama_lengkap(\"Khansa \", \"hardi \", \"kumara\")\n",
        "nama_lengkap.nama_lengkap(\"Muhhamad \", \"Ilhamsyah \",)\n",
        "nama_lengkap.nama_lengkap(\"Vito \", \"Alim \",\"Putra \",\"putri\")\n",
        ""
      ],
      "metadata": {
        "id": "liQBcJWZ12MN",
        "colab": {
          "base_uri": "https://localhost:8080/"
        },
        "outputId": "dc9aa617-6372-4a67-a02d-a63169430d32"
      },
      "execution_count": 3,
      "outputs": [
        {
          "output_type": "stream",
          "name": "stdout",
          "text": [
            "Khansa hardi kumara\n",
            "Muhhamad Ilhamsyah \n",
            "Vito Alim Putra putri\n"
          ]
        }
      ]
    },
    {
      "cell_type": "code",
      "source": [
        "#Method overloading: sebuah proses yang dapat membuat multiple methods yang sama dalam class yang sama, dan semua methods bekerja dengan cara yang berbeda-beda."
      ],
      "metadata": {
        "id": "xwFmppIG3JGE"
      },
      "execution_count": 5,
      "outputs": []
    }
  ]
}